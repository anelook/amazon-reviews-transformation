{
 "cells": [
  {
   "cell_type": "code",
   "execution_count": null,
   "metadata": {},
   "outputs": [],
   "source": [
    "!pip install confluent_kafka"
   ]
  },
  {
   "cell_type": "code",
   "execution_count": null,
   "metadata": {},
   "outputs": [],
   "source": [
    "import csv\n",
    "import json\n",
    "from confluent_kafka import Producer, Consumer, KafkaError # to produce and consume data from Apache Kafka topics\n",
    "import ssl\n",
    "\n",
    "csv_file = 'Reviews.csv'\n",
    "\n",
    "# SSL context configuration\n",
    "# TODO: Load Apache Kafka certificates into certificates folder\n",
    "apache_kafka_ssl_config = {\n",
    "    'ssl.ca.location': 'certificates/ca.pem', \n",
    "    'ssl.certificate.location': 'certificates/service.cert',\n",
    "    'ssl.key.location': 'certificates/service.key',\n",
    "    'security.protocol': 'ssl',\n",
    "}\n",
    "\n",
    "apache_kafka_uri = ''  # TODO: Set URI for Apache Kafka\n",
    "\n",
    "apache_kafka_input_topic_name = 'reviews'\n",
    "\n",
    "producer = Producer({\n",
    "    'bootstrap.servers': apache_kafka_uri, \n",
    "    **apache_kafka_ssl_config \n",
    "})\n",
    "\n",
    "# Send a message to a Kafka topic\n",
    "def send_message(message, topic_name):\n",
    "    producer.produce(topic_name, json.dumps(message).encode('utf-8'))\n",
    "    producer.flush()\n",
    "\n",
    "# Read CSV file and send records to Kafka topic\n",
    "with open(csv_file, newline='', encoding='utf-8') as csvfile:\n",
    "    reader = csv.DictReader(csvfile)\n",
    "    for row in reader:\n",
    "        # Convert each row to a JSON object\n",
    "        record = {\n",
    "            'Id': row['Id'],\n",
    "            'ProductId': row['ProductId'],\n",
    "            'UserId': row['UserId'],\n",
    "            'ProfileName': row['ProfileName'],\n",
    "            'HelpfulnessNumerator': row['HelpfulnessNumerator'],\n",
    "            'HelpfulnessDenominator': row['HelpfulnessDenominator'],\n",
    "            'Score': row['Score'],\n",
    "            'Time': row['Time'],\n",
    "            'Summary': row['Summary'],\n",
    "            'Text': row['Text']\n",
    "        }\n",
    "        send_message(record, apache_kafka_input_topic_name)\n",
    "        print(f\"Sent record to Kafka topic: {record}\")\n",
    "\n",
    "\n"
   ]
  }
 ],
 "metadata": {
  "kernelspec": {
   "display_name": "photos",
   "language": "python",
   "name": "python3"
  },
  "language_info": {
   "codemirror_mode": {
    "name": "ipython",
    "version": 3
   },
   "file_extension": ".py",
   "mimetype": "text/x-python",
   "name": "python",
   "nbconvert_exporter": "python",
   "pygments_lexer": "ipython3",
   "version": "3.11.7"
  }
 },
 "nbformat": 4,
 "nbformat_minor": 2
}
